{
  "nbformat": 4,
  "nbformat_minor": 0,
  "metadata": {
    "colab": {
      "name": "Untitled1.ipynb",
      "provenance": [],
      "authorship_tag": "ABX9TyM3+Cqmfeo38D2W0yOfgVeq",
      "include_colab_link": true
    },
    "kernelspec": {
      "name": "python3",
      "display_name": "Python 3"
    },
    "language_info": {
      "name": "python"
    }
  },
  "cells": [
    {
      "cell_type": "markdown",
      "metadata": {
        "id": "view-in-github",
        "colab_type": "text"
      },
      "source": [
        "<a href=\"https://colab.research.google.com/github/alyssability/BudgetGenerator/blob/main/BudgetGenerator.ipynb\" target=\"_parent\"><img src=\"https://colab.research.google.com/assets/colab-badge.svg\" alt=\"Open In Colab\"/></a>"
      ]
    },
    {
      "cell_type": "markdown",
      "metadata": {
        "id": "jftTy0ALFgwY"
      },
      "source": [
        "### Budget Generator"
      ]
    },
    {
      "cell_type": "markdown",
      "metadata": {
        "id": "fk2TW5JuFplL"
      },
      "source": [
        "Input Values"
      ]
    },
    {
      "cell_type": "code",
      "metadata": {
        "id": "EFa0s7y25IML"
      },
      "source": [
        ""
      ],
      "execution_count": null,
      "outputs": []
    }
  ]
}